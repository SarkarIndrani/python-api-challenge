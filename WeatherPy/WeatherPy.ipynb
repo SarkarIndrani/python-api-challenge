{
 "cells": [],
 "metadata": {
  "kernelspec": {
   "display_name": "base",
   "language": "python",
   "name": "python3"
  },
  "language_info": {
   "codemirror_mode": {
    "name": "ipython",
    "version": 3
   },
   "file_extension": ".py",
   "mimetype": "text/x-python",
   "name": "python",
   "nbconvert_exporter": "python",
   "pygments_lexer": "ipython3",
   "version": "3.9.13"
  },
  "vscode": {
   "interpreter": {
    "hash": "c621707852c7bb2f47ddfbb11ea61ea996c65ba64fa276325653eb4254fbd727"
   }
  }
 },
 "nbformat": 4,
 "nbformat_minor": 5
}
